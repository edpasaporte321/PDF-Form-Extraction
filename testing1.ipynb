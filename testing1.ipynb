{
 "cells": [
  {
   "cell_type": "code",
   "execution_count": 2,
   "id": "f8d472f5",
   "metadata": {},
   "outputs": [],
   "source": [
    "from spire.pdf.common import *\n",
    "from spire.pdf import *\n",
    "\n"
   ]
  },
  {
   "cell_type": "code",
   "execution_count": 3,
   "id": "61f31704",
   "metadata": {},
   "outputs": [],
   "source": [
    "def separateTextByAngleBrackets(text):\n",
    "    \"\"\"Separates text by angle brackets and returns a list of the separated items.\n",
    "     Args:\n",
    "         text (str): The input text containing items separated by angle brackets.\n",
    "     Returns:\n",
    "         list: A list of separated items containing the items separated by angle brackets. \n",
    "     \"\"\"\n",
    "    text1 = []\n",
    "    for i in [\"><\"]:\n",
    "        for a in range(0, 5):\n",
    "            try:\n",
    "                list(text1) == text1.append(text.split(\"><\")[a].strip())\n",
    "                a = a + 1\n",
    "            except:\n",
    "                pass\n",
    "        return text1\n"
   ]
  },
  {
   "cell_type": "code",
   "execution_count": 4,
   "id": "205a88d3",
   "metadata": {},
   "outputs": [],
   "source": [
    "def separateTextByAngleBrackets(text):\n",
    "    \"\"\"Separates text by angle brackets and returns a list of the separated items.\n",
    "     Args:\n",
    "         text (str): The input text containing items separated by angle brackets.\n",
    "     Returns:\n",
    "         list: A list of separated items containing the items separated by angle brackets. \n",
    "     \"\"\"\n",
    "    text1 = []\n",
    "    for i in [\"><\"]:\n",
    "        for a in range(0, 5):\n",
    "            try:\n",
    "                list(text1) == text1.append(text.split(\"><\")[a].strip())\n",
    "                a = a + 1\n",
    "            except:\n",
    "                pass\n",
    "        return text1\n",
    "\n",
    "def sanitizingText(text):\n",
    "    \"\"\"Sanitizes the input text by removing specific characters.\n",
    "    Args:\n",
    "        text (str): The input text to be sanitized.\n",
    "    Returns:\n",
    "        str: The sanitized text with specific characters removed.\n",
    "    \"\"\"\n",
    "    for i in [\">\", \"<\", \"END\", \"IF\", \"ELSE\", \" \"]:\n",
    "        text = text.split(\"=\")[0].strip()\n",
    "        text = text.replace(i, \"\")\n",
    "        textResult1 = text\n",
    "    return textResult1\n",
    "\n",
    "def processTheList(nowItsAList):\n",
    "    \"\"\"Processes a list of items and returns each item.\n",
    "    Args:\n",
    "        list: The input list containing items to be processed.\n",
    "    Returns: \n",
    "        Each item from the input list.\n",
    "    \"\"\"\n",
    "    for ItemsList in nowItsAList:\n",
    "        #print(f\"Item in the list: {ItemsList}\")\n",
    "        return ItemsList\n",
    "\n",
    "\n"
   ]
  },
  {
   "cell_type": "code",
   "execution_count": 5,
   "id": "a5d693ae",
   "metadata": {},
   "outputs": [],
   "source": [
    "doc = PdfDocument()\n",
    "doc.LoadFromFile(\"4683425_FAM_TrialWitnessList_MA.pdf\")"
   ]
  },
  {
   "cell_type": "code",
   "execution_count": 6,
   "id": "81a5a9d4",
   "metadata": {},
   "outputs": [],
   "source": [
    "form = doc.Form\n",
    "formWidget = PdfFormWidget(form)\n",
    "field = formWidget.FieldsWidget.get_Item(0)\n",
    "textbox = PdfTextBoxFieldWidget(field.Ptr)"
   ]
  },
  {
   "cell_type": "code",
   "execution_count": 80,
   "id": "11e2301e",
   "metadata": {},
   "outputs": [],
   "source": [
    "# testText1 = separateTextByAngleBrackets(testText)\n",
    "# print(testText1)\n",
    "# for item in testText1:\n",
    "#     result = sanitizingText(item)\n",
    "#     print(result)"
   ]
  },
  {
   "cell_type": "code",
   "execution_count": null,
   "id": "a13d64ec",
   "metadata": {},
   "outputs": [
    {
     "name": "stdout",
     "output_type": "stream",
     "text": [
      "[CourtCountyTE]\n",
      "[CourtDocketNumberTE]\n",
      "[PlaintiffNameTE]\n",
      "[DefendantNameTE]\n",
      "[CourtReporterNameTE]\n",
      "[JudgeNameTE]\n",
      "[WitnessNameRTE]\n",
      "[WitnessNameRTE -2]\n",
      "[WitnessNameRTE -15]\n",
      "[WitnessNameRTE -14]\n",
      "[WitnessNameRTE -13]\n",
      "[WitnessNameRTE -12]\n",
      "[WitnessNameRTE -11]\n",
      "[WitnessNameRTE -10]\n",
      "[WitnessNameRTE -9]\n",
      "[WitnessNameRTE -8]\n",
      "[WitnessNameRTE -7]\n",
      "[WitnessNameRTE -6]\n",
      "[WitnessNameRTE -5]\n",
      "[WitnessNameRTE -4]\n",
      "[WitnessNameRTE -3]\n",
      "[CourtClerkTE]\n",
      "[CourtAddressStreetTE]\n",
      "[CourtAddressCszCO]\n",
      "[CourtNameTE]\n",
      "[CourtInterpreterNameTE]\n",
      "[CourtEventTE]\n",
      "[Automation Note]\n"
     ]
    }
   ],
   "source": [
    "name = textbox.Name\n",
    "file1 = open(\"output.txt\", \"w\")\n",
    "\n",
    "for i in range(formWidget.FieldsWidget.Count):\n",
    "    field = formWidget.FieldsWidget.get_Item(i)\n",
    "    textbox = PdfTextBoxFieldWidget(field.Ptr) #declaring the textbox variable and field variable\n",
    "    beforeBracketedText = textbox.Name #getting bracketed text\n",
    "    toBeCleaned = beforeBracketedText #assigning bracketed text to a new variable for cleaning\n",
    "    nowItsAList = separateTextByAngleBrackets(toBeCleaned) #removing angle brackets. output is a list\n",
    "    if len(nowItsAList) == 1:\n",
    "        resultOfSanitizingTextAlone = nowItsAList[0] #getting the only item in the list\n",
    "        print(f\"[{resultOfSanitizingTextAlone}]\")\n",
    "        file1.write(f\"[{resultOfSanitizingTextAlone}]\\n\")\n",
    "        file1.close()\n",
    "    \n",
    "    elif len(nowItsAList) > 1:\n",
    "        for item in nowItsAList:\n",
    "            resultOfSanitizingText = sanitizingText(item) #sanitizing each item in the list\n",
    "            if resultOfSanitizingText != \"\":\n",
    "                print({resultOfSanitizingText})\n",
    "            elif resultOfSanitizingText == \"\":\n",
    "                pass\n",
    "\n",
    "\n",
    "\n",
    "\n",
    "\n",
    "\n",
    "\n"
   ]
  },
  {
   "cell_type": "code",
   "execution_count": 10,
   "id": "22dad6e3",
   "metadata": {},
   "outputs": [],
   "source": [
    "file1.write(f\"sdad]\")\n",
    "file1.close()"
   ]
  }
 ],
 "metadata": {
  "kernelspec": {
   "display_name": ".env",
   "language": "python",
   "name": "python3"
  },
  "language_info": {
   "codemirror_mode": {
    "name": "ipython",
    "version": 3
   },
   "file_extension": ".py",
   "mimetype": "text/x-python",
   "name": "python",
   "nbconvert_exporter": "python",
   "pygments_lexer": "ipython3",
   "version": "3.11.4"
  }
 },
 "nbformat": 4,
 "nbformat_minor": 5
}
