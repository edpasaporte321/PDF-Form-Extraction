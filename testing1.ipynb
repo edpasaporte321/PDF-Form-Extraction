{
 "cells": [
  {
   "cell_type": "code",
   "execution_count": 1,
   "id": "f8d472f5",
   "metadata": {},
   "outputs": [],
   "source": [
    "from spire.pdf.common import *\n",
    "from spire.pdf import *\n",
    "\n"
   ]
  },
  {
   "cell_type": "code",
   "execution_count": 8,
   "id": "231497b3",
   "metadata": {},
   "outputs": [],
   "source": [
    "testText = \"<CourtMunicipalMC = Municipal><CourtOtherChuChu = District>\""
   ]
  },
  {
   "cell_type": "code",
   "execution_count": 42,
   "id": "61f31704",
   "metadata": {},
   "outputs": [
    {
     "name": "stdout",
     "output_type": "stream",
     "text": [
      "['<CourtMunicipalMC = Municipal', 'CourtOtherChuChu = District>']\n"
     ]
    }
   ],
   "source": [
    "def separateText(text):\n",
    "    text1 = []\n",
    "    for i in [\"><\"]:\n",
    "        for a in range(0, 3):\n",
    "            try:\n",
    "                list(text1) == text1.append(text.split(\"><\")[a].strip())\n",
    "                a = a + 1\n",
    "            except:\n",
    "                pass\n",
    "        return text1\n",
    "        \n",
    "testPrint = separateText(testText)\n",
    "print(testPrint)\n",
    "        \n"
   ]
  },
  {
   "cell_type": "code",
   "execution_count": null,
   "id": "205a88d3",
   "metadata": {},
   "outputs": [
    {
     "data": {
      "text/plain": [
       "'CourtMunicipalMC'"
      ]
     },
     "execution_count": 2,
     "metadata": {},
     "output_type": "execute_result"
    }
   ],
   "source": [
    "def sanitizingText(text):\n",
    "    #chars = \"<>END IF\"\n",
    "    for i in [\">\", \"<\", \"END\", \"IF\", \"ELSE\", \" \"]:\n",
    "        #text1 = text.split(\"><\")[0]\n",
    "        #text2 = text.split(\"><\")[1]\n",
    "        text = text.split(\"=\")[0].strip()\n",
    "        text = text.replace(i, \"\")\n",
    "        textResult1 = text\n",
    "    return textResult1\n",
    "\n",
    "sanitizingText(testText)\n"
   ]
  },
  {
   "cell_type": "code",
   "execution_count": 44,
   "id": "a5d693ae",
   "metadata": {},
   "outputs": [],
   "source": [
    "doc = PdfDocument()\n",
    "doc.LoadFromFile(\"TestFile.pdf\")"
   ]
  },
  {
   "cell_type": "code",
   "execution_count": 45,
   "id": "d4e25267",
   "metadata": {},
   "outputs": [],
   "source": [
    "content = []"
   ]
  },
  {
   "cell_type": "code",
   "execution_count": 46,
   "id": "81a5a9d4",
   "metadata": {},
   "outputs": [],
   "source": [
    "form = doc.Form\n",
    "formWidget = PdfFormWidget(form)\n",
    "field = formWidget.FieldsWidget.get_Item(0)\n",
    "textbox = PdfTextBoxFieldWidget(field.Ptr)"
   ]
  },
  {
   "cell_type": "code",
   "execution_count": null,
   "id": "a13d64ec",
   "metadata": {},
   "outputs": [
    {
     "name": "stdout",
     "output_type": "stream",
     "text": [
      "It's alone\n",
      "It's alone\n",
      "It's alone\n",
      "It's alone\n",
      "It's alone\n",
      "It's alone\n",
      "It's alone\n",
      "It's alone\n",
      "It's alone\n",
      "It's alone\n",
      "It's not alone\n",
      "It's alone\n",
      "It's alone\n",
      "It's alone\n",
      "It's alone\n",
      "It's alone\n",
      "It's alone\n"
     ]
    }
   ],
   "source": [
    "name = textbox.Name\n",
    "\n",
    "for i in range(formWidget.FieldsWidget.Count):\n",
    "    field = formWidget.FieldsWidget.get_Item(i)\n",
    "    textbox = PdfTextBoxFieldWidget(field.Ptr)\n",
    "    beforeBracketedText = textbox.Name\n",
    "    toBeCleaned = beforeBracketedText\n",
    "    nowItsAList = separateText(toBeCleaned)\n",
    "    #print(f\"thing that's a list: {len(testValue)}\")\n",
    "    if len(nowItsAList) == 1:\n",
    "        {\n",
    "           print(\"It's alone\")\n",
    "        }\n",
    "    elif len(nowItsAList) > 1:\n",
    "        {\n",
    "            print(\"It's not alone\")# Function that separates them and outputs them both as bracketed text\n",
    "        }\n",
    "    #bracketedText = f\"[{sanitizingText(beforeBracketedText)}]\"\n",
    "    #print(f\"Bracketedtext: {bracketedText}\")\n",
    "\n",
    "\n",
    "\n",
    "\n",
    "\n",
    "\n"
   ]
  },
  {
   "cell_type": "code",
   "execution_count": 58,
   "id": "32ae6c3f",
   "metadata": {},
   "outputs": [
    {
     "name": "stdout",
     "output_type": "stream",
     "text": [
      "['NoticeDismissalTypeMC=Without']\n"
     ]
    }
   ],
   "source": [
    "for i in range(0, 1):\n",
    "    print(separateText(toBeCleaned))"
   ]
  },
  {
   "cell_type": "code",
   "execution_count": null,
   "id": "22dad6e3",
   "metadata": {},
   "outputs": [],
   "source": []
  }
 ],
 "metadata": {
  "kernelspec": {
   "display_name": "Python 3",
   "language": "python",
   "name": "python3"
  },
  "language_info": {
   "codemirror_mode": {
    "name": "ipython",
    "version": 3
   },
   "file_extension": ".py",
   "mimetype": "text/x-python",
   "name": "python",
   "nbconvert_exporter": "python",
   "pygments_lexer": "ipython3",
   "version": "3.11.4"
  }
 },
 "nbformat": 4,
 "nbformat_minor": 5
}
