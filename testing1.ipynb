{
 "cells": [
  {
   "cell_type": "code",
   "execution_count": 1,
   "id": "f8d472f5",
   "metadata": {},
   "outputs": [],
   "source": [
    "from spire.pdf.common import *\n",
    "from spire.pdf import *\n",
    "import FreeSimpleGUI as sg\n",
    "\n"
   ]
  },
  {
   "cell_type": "code",
   "execution_count": 4,
   "id": "205a88d3",
   "metadata": {},
   "outputs": [],
   "source": [
    "def separateTextByAngleBrackets(text):\n",
    "    \"\"\"Separates text by angle brackets and returns a list of the separated items.\n",
    "     Args:\n",
    "         text (str): The input text containing items separated by angle brackets.\n",
    "     Returns:\n",
    "         list: A list of separated items containing the items separated by angle brackets. \n",
    "     \"\"\"\n",
    "    text1 = []\n",
    "    for i in [\"><\"]:\n",
    "        for a in range(0, 5):\n",
    "            try:\n",
    "                list(text1) == text1.append(text.split(\"><\")[a].strip())\n",
    "                a = a + 1\n",
    "            except:\n",
    "                pass\n",
    "        return text1\n",
    "\n",
    "def sanitizingText(text):\n",
    "    \"\"\"Sanitizes the input text by removing specific characters.\n",
    "    Args:\n",
    "        text (str): The input text to be sanitized.\n",
    "    Returns:\n",
    "        str: The sanitized text with specific characters removed.\n",
    "    \"\"\"\n",
    "    for i in [\">\", \"<\", \"END\", \"IF\", \"ELSE\", \" \"]:\n",
    "        text = text.split(\"=\")[0].strip()\n",
    "        text = text.replace(i, \"\")\n",
    "        textResult1 = text\n",
    "    return textResult1\n",
    "\n",
    "def processTheList(nowItsAList):\n",
    "    \"\"\"Processes a list of items and returns each item.\n",
    "    Args:\n",
    "        list: The input list containing items to be processed.\n",
    "    Returns: \n",
    "        Each item from the input list.\n",
    "    \"\"\"\n",
    "    for ItemsList in nowItsAList:\n",
    "        #print(f\"Item in the list: {ItemsList}\")\n",
    "        return ItemsList\n",
    "\n",
    "\n"
   ]
  },
  {
   "cell_type": "code",
   "execution_count": null,
   "id": "a13d64ec",
   "metadata": {},
   "outputs": [],
   "source": [
    "def extractingFieldNames(pdfFileName):\n",
    "    \"\"\"Extracts field names from a PDF form and writes them to an output file.\"\"\"\n",
    "    doc = PdfDocument()\n",
    "    doc.LoadFromFile(f\"{pdfFileName}\")\n",
    "\n",
    "    form = doc.Form\n",
    "    formWidget = PdfFormWidget(form)\n",
    "    field = formWidget.FieldsWidget.get_Item(0)\n",
    "    textbox = PdfTextBoxFieldWidget(field.Ptr)\n",
    "\n",
    "    file1 = open(\"output.txt\", \"w\")\n",
    "    \n",
    "    for i in range(formWidget.FieldsWidget.Count):\n",
    "        field = formWidget.FieldsWidget.get_Item(i)\n",
    "        textbox = PdfTextBoxFieldWidget(field.Ptr) #declaring the textbox variable and field variable\n",
    "        beforeBracketedText = textbox.Name #getting bracketed text\n",
    "        toBeCleaned = beforeBracketedText #assigning bracketed text to a new variable for cleaning\n",
    "        nowItsAList = separateTextByAngleBrackets(toBeCleaned) #removing angle brackets. output is a list\n",
    "\n",
    "        if len(nowItsAList) == 1:\n",
    "            resultOfSanitizingTextAlone = nowItsAList[0] #getting the only item in the list\n",
    "            print(f\"[{sanitizingText(resultOfSanitizingTextAlone)}]\")\n",
    "            file1.write(f\"[{sanitizingText(resultOfSanitizingTextAlone)}]\\n\")\n",
    "\n",
    "        elif len(nowItsAList) > 1:\n",
    "            for item in nowItsAList:\n",
    "                resultOfSanitizingText = sanitizingText(item) #sanitizing each item in the list\n",
    "                if resultOfSanitizingText != \"\":\n",
    "                    file1.write(f\"[{resultOfSanitizingText}]\\n\")\n",
    "                    print({resultOfSanitizingText})\n",
    "\n",
    "                elif resultOfSanitizingText == \"\":\n",
    "                    pass\n",
    "\n",
    "    file1.close()\n",
    "\n",
    "\n",
    "\n",
    "\n",
    "\n"
   ]
  },
  {
   "cell_type": "code",
   "execution_count": 23,
   "id": "f4eacf3e",
   "metadata": {},
   "outputs": [
    {
     "name": "stdout",
     "output_type": "stream",
     "text": [
      "[DefendantAddressStreetTE]\n",
      "[DefendantAddressCszCO]\n",
      "[DefendantTelephoneTE]\n",
      "[PlaintiffAddressCszCO]\n",
      "[PlaintiffAddressStreetTE]\n",
      "[PlaintiffTelephoneTE]\n",
      "[PlaintiffNameTE]\n",
      "[DefendantNameTE]\n",
      "[CourtDivisionTE]\n",
      "[CourtDocketNumberTE]\n",
      "{'AttorneyPreparingNoticeTF'}\n",
      "{'PlaintiffNameTE'}\n",
      "[AttorneyOrPlaintiffAddressPhoneCO]\n",
      "[AttorneyOrPlaintiffNameCO]\n",
      "[CourtType5MC]\n",
      "[CourtType5MC]\n",
      "[NoticeDismissalTypeMC]\n",
      "[NoticeDismissalTypeMC]\n"
     ]
    }
   ],
   "source": [
    "pdfFileName = \"TestFile.pdf\"\n",
    "extractingFieldNames(pdfFileName)"
   ]
  },
  {
   "cell_type": "code",
   "execution_count": null,
   "id": "b407de14",
   "metadata": {},
   "outputs": [
    {
     "name": "stdout",
     "output_type": "stream",
     "text": [
      "[DefendantAddressStreetTE]\n",
      "[DefendantAddressCszCO]\n",
      "[DefendantTelephoneTE]\n",
      "[PlaintiffAddressCszCO]\n",
      "[PlaintiffAddressStreetTE]\n",
      "[PlaintiffTelephoneTE]\n",
      "[PlaintiffNameTE]\n",
      "[DefendantNameTE]\n",
      "[CourtDivisionTE]\n",
      "[CourtDocketNumberTE]\n",
      "{'AttorneyPreparingNoticeTF'}\n",
      "{'PlaintiffNameTE'}\n",
      "[AttorneyOrPlaintiffAddressPhoneCO]\n",
      "[AttorneyOrPlaintiffNameCO]\n",
      "[CourtType5MC]\n",
      "[CourtType5MC]\n",
      "[NoticeDismissalTypeMC]\n",
      "[NoticeDismissalTypeMC]\n"
     ]
    }
   ],
   "source": [
    "# Define the window's contents\n",
    "layout = [[sg.Text(\"What's your name?\")],\n",
    "          [sg.Input(key='formFileName')],\n",
    "          [sg.Text(size=(40,1), key='output')],\n",
    "          [sg.Button('Ok'), sg.Button('Quit')]]\n",
    "\n",
    "# Create the window\n",
    "window = sg.Window('Window Title', layout)\n",
    "\n",
    "# Display and interact with the Window using an Event Loop\n",
    "while True:\n",
    "    event, values = window.read()\n",
    "    # See if user wants to quit or window was closed\n",
    "    if event == sg.WINDOW_CLOSED or event == 'Quit':\n",
    "        break\n",
    "    # Output a message to the window\n",
    "    try:\n",
    "        extractingFieldNames(values['formFileName'])\n",
    "    except:\n",
    "        window['output'].update('An error occurred. Please check the file name and try again.')\n",
    "    else:\n",
    "        window['output'].update('Field names extracted successfully! Check output.txt.')\n",
    "\n",
    "# Finish up by removing from the screen\n",
    "window.close()"
   ]
  },
  {
   "cell_type": "code",
   "execution_count": 27,
   "id": "b930f4a9",
   "metadata": {},
   "outputs": [],
   "source": [
    "window.close()"
   ]
  }
 ],
 "metadata": {
  "kernelspec": {
   "display_name": ".env",
   "language": "python",
   "name": "python3"
  },
  "language_info": {
   "codemirror_mode": {
    "name": "ipython",
    "version": 3
   },
   "file_extension": ".py",
   "mimetype": "text/x-python",
   "name": "python",
   "nbconvert_exporter": "python",
   "pygments_lexer": "ipython3",
   "version": "3.11.4"
  }
 },
 "nbformat": 4,
 "nbformat_minor": 5
}
