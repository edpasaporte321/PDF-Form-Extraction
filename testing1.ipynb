{
 "cells": [
  {
   "cell_type": "code",
   "execution_count": 2,
   "id": "f8d472f5",
   "metadata": {},
   "outputs": [],
   "source": [
    "from spire.pdf.common import *\n",
    "from spire.pdf import *\n",
    "\n"
   ]
  },
  {
   "cell_type": "code",
   "execution_count": 64,
   "id": "205a88d3",
   "metadata": {},
   "outputs": [
    {
     "data": {
      "text/plain": [
       "'<CourtMunicipalMC = Municipal><CourtOtherChuChu = District>'"
      ]
     },
     "execution_count": 64,
     "metadata": {},
     "output_type": "execute_result"
    }
   ],
   "source": [
    "def sanitizingText(text):\n",
    "    #chars = \"<>END IF\"\n",
    "    for i in [\">\", \"<\", \"END\", \"IF\", \"ELSE\", \" \"]:\n",
    "        text1 = text.split(\"><\")[0]\n",
    "        text2 = text.split(\"><\")[1]\n",
    "        #text = text.split(\"=\")[0].strip()\n",
    "        #text = text.replace(i, \"\")\n",
    "        textResult1 = text\n",
    "    return textResult1\n",
    "\n",
    "sanitizingText(\"<CourtMunicipalMC = Municipal><CourtOtherChuChu = District>\")\n"
   ]
  },
  {
   "cell_type": "code",
   "execution_count": 35,
   "id": "a5d693ae",
   "metadata": {},
   "outputs": [],
   "source": [
    "doc = PdfDocument()\n",
    "doc.LoadFromFile(\"TestFile.pdf\")"
   ]
  },
  {
   "cell_type": "code",
   "execution_count": 36,
   "id": "d4e25267",
   "metadata": {},
   "outputs": [],
   "source": [
    "content = []"
   ]
  },
  {
   "cell_type": "code",
   "execution_count": 37,
   "id": "81a5a9d4",
   "metadata": {},
   "outputs": [],
   "source": [
    "form = doc.Form\n",
    "formWidget = PdfFormWidget(form)\n",
    "field = formWidget.FieldsWidget.get_Item(0)\n",
    "textbox = PdfTextBoxFieldWidget(field.Ptr)"
   ]
  },
  {
   "cell_type": "code",
   "execution_count": 44,
   "id": "a13d64ec",
   "metadata": {},
   "outputs": [
    {
     "name": "stdout",
     "output_type": "stream",
     "text": [
      "NoticeDismissalTypeMC=Without\n",
      "17\n",
      "[DefendantAddressStreetTE]\n",
      "[DefendantAddressCszCO]\n",
      "[DefendantTelephoneTE]\n",
      "[PlaintiffAddressCszCO]\n",
      "[PlaintiffAddressStreetTE]\n",
      "[PlaintiffTelephoneTE]\n",
      "[PlaintiffNameTE]\n",
      "[DefendantNameTE]\n",
      "[CourtDivisionTE]\n",
      "[CourtDocketNumberTE]\n",
      "[AttorneyPreparingNoticeTFPlaintiffNameTE]\n",
      "[AttorneyOrPlaintiffAddressPhoneCO]\n",
      "[AttorneyOrPlaintiffNameCO]\n",
      "[CourtType5MC]\n",
      "[CourtType5MC]\n",
      "[NoticeDismissalTypeMC]\n",
      "[NoticeDismissalTypeMC]\n"
     ]
    }
   ],
   "source": [
    "name = textbox.Name\n",
    "print(name)\n",
    "print(formWidget.FieldsWidget.Count)\n",
    "\n",
    "for i in range(formWidget.FieldsWidget.Count):\n",
    "    field = formWidget.FieldsWidget.get_Item(i)\n",
    "    textbox = PdfTextBoxFieldWidget(field.Ptr)\n",
    "    beforeBracketedText = textbox.Name\n",
    "    bracketedText = f\"[{sanitizingText(beforeBracketedText)}]\"\n",
    "    print(bracketedText)\n",
    "\n",
    "\n",
    "\n",
    "\n",
    "\n",
    "\n",
    "\n"
   ]
  },
  {
   "cell_type": "code",
   "execution_count": null,
   "id": "22dad6e3",
   "metadata": {},
   "outputs": [],
   "source": []
  }
 ],
 "metadata": {
  "kernelspec": {
   "display_name": "Python 3",
   "language": "python",
   "name": "python3"
  },
  "language_info": {
   "codemirror_mode": {
    "name": "ipython",
    "version": 3
   },
   "file_extension": ".py",
   "mimetype": "text/x-python",
   "name": "python",
   "nbconvert_exporter": "python",
   "pygments_lexer": "ipython3",
   "version": "3.11.4"
  }
 },
 "nbformat": 4,
 "nbformat_minor": 5
}
